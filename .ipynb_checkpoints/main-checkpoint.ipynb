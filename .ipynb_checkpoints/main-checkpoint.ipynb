{
 "cells": [
  {
   "cell_type": "code",
   "execution_count": 53,
   "id": "7702c9a3",
   "metadata": {},
   "outputs": [],
   "source": [
    "import numpy as np\n",
    "import random\n",
    "import copy\n",
    "from collections import Counter\n",
    "# Note: To use this import: pip install ipynb\n",
    "from ipynb.fs.full.mahjong_rules import Tile, Draw_Pile, Discard_Pile, Player, score_hand, display_tiles"
   ]
  },
  {
   "cell_type": "markdown",
   "id": "cb6e0c8a",
   "metadata": {},
   "source": [
    "### Hyperparameters"
   ]
  },
  {
   "cell_type": "code",
   "execution_count": 4,
   "id": "30d02733",
   "metadata": {},
   "outputs": [],
   "source": [
    "max_depth = 10\n",
    "exploration_parameter = 100\n"
   ]
  },
  {
   "cell_type": "markdown",
   "id": "4aaf9d9e",
   "metadata": {},
   "source": [
    "### Initialize Mahjong Game"
   ]
  },
  {
   "cell_type": "code",
   "execution_count": 37,
   "id": "96c5adb2",
   "metadata": {},
   "outputs": [],
   "source": [
    "def initialize_game_state():\n",
    "    # Initialize the starting draw pile and shuffle it\n",
    "    # Note: It is stored as draw_pile.deck\n",
    "    draw_pile = Draw_Pile()\n",
    "    random.shuffle(draw_pile.deck)\n",
    "\n",
    "    # Give player one 13 + 1 starting tiles\n",
    "    # Note: It is stored as player1.hand\n",
    "    player1 = Player()\n",
    "    for n in range(14):\n",
    "        player1.hand.append(draw_pile.deal())\n",
    "\n",
    "    discard_pile = Discard_Pile()\n",
    "\n",
    "    return Game_State(player1=player1, discard_pile=discard_pile, draw_pile=draw_pile)\n"
   ]
  },
  {
   "cell_type": "markdown",
   "id": "ea6c715b",
   "metadata": {},
   "source": [
    "### Deal Tile"
   ]
  },
  {
   "cell_type": "code",
   "execution_count": 7,
   "id": "7015b43f",
   "metadata": {},
   "outputs": [],
   "source": [
    "tile = 2\n",
    "discard_pile.deck.append(player1.discard(tile))"
   ]
  },
  {
   "cell_type": "code",
   "execution_count": 47,
   "id": "00529276",
   "metadata": {},
   "outputs": [],
   "source": [
    "def compare(array1, array2):\n",
    "    return Counter(array1) == Counter(array2)"
   ]
  },
  {
   "cell_type": "code",
   "execution_count": 49,
   "id": "92cf740a",
   "metadata": {},
   "outputs": [
    {
     "data": {
      "text/plain": [
       "True"
      ]
     },
     "execution_count": 49,
     "metadata": {},
     "output_type": "execute_result"
    }
   ],
   "source": [
    "a = [1,2]\n",
    "b = [2,1]\n",
    "compare(a,b)"
   ]
  },
  {
   "cell_type": "code",
   "execution_count": 15,
   "id": "0bf6407f",
   "metadata": {},
   "outputs": [],
   "source": [
    "# Initialize a game state object, consists of player hand, discard pile and draw pile\n",
    "class Game_State(object):\n",
    "    def __init__(self, player1, discard_pile, draw_pile):\n",
    "        self.player1 = player1\n",
    "        self.discard_pile = discard_pile\n",
    "        self.draw_pile = draw_pile\n",
    "        \n",
    "    def get_possible_actions():\n",
    "        return self.player1.hand\n",
    "\n",
    "def update_state(state,discard_tile):\n",
    "    # Discard the tile from the player hand to the discard pile\n",
    "    state.discard_pile.deck.append(state.player1.discard(discard_tile))\n",
    "    # Draw a new tile from the draw pile into the player hand\n",
    "    state.player1.hand.append(state.draw_pile.deal())\n",
    "    return state        \n",
    "        \n",
    "# Use this function to output the entire state to see \n",
    "# Displays player hand & discard pile\n",
    "# Does not display draw pile (only shows how many tiles remaining)\n",
    "def display_state(state):\n",
    "    print('~Player Hand~')\n",
    "    display_tiles(state.player1.hand)\n",
    "    print('--------------')\n",
    "    print('~Discard Pile~')\n",
    "    display_tiles(state.discard_pile.deck)\n",
    "    print('--------------')\n",
    "    print('~Draw Pile~')\n",
    "    print('tile count =',len(state.draw_pile))"
   ]
  },
  {
   "cell_type": "code",
   "execution_count": 25,
   "id": "397d114c",
   "metadata": {},
   "outputs": [],
   "source": [
    "game_state.player1.hand"
   ]
  },
  {
   "cell_type": "code",
   "execution_count": 38,
   "id": "e3954ac3",
   "metadata": {},
   "outputs": [],
   "source": [
    "# Initialize a game state object, consists of player hand, discard pile and draw pile\n",
    "game_state = initialize_game_state()"
   ]
  },
  {
   "cell_type": "code",
   "execution_count": 48,
   "id": "47a6462f",
   "metadata": {},
   "outputs": [
    {
     "data": {
      "text/plain": [
       "False"
      ]
     },
     "execution_count": 48,
     "metadata": {},
     "output_type": "execute_result"
    }
   ],
   "source": [
    "compare(game_state.player1.hand,state1.player1.hand)"
   ]
  },
  {
   "cell_type": "code",
   "execution_count": 51,
   "id": "00f6e3c4",
   "metadata": {},
   "outputs": [
    {
     "name": "stdout",
     "output_type": "stream",
     "text": [
      "tile count = 14\n",
      "1 Wan\n",
      "4 Wan\n",
      "2 Wan\n",
      "0 Bai_Ban\n",
      "6 Wan\n",
      "2 Wan\n",
      "7 Suo\n",
      "2 Wan\n",
      "1 Tong\n",
      "6 Wan\n",
      "3 Tong\n",
      "0 Xi\n",
      "2 Suo\n",
      "9 Wan\n"
     ]
    }
   ],
   "source": [
    "display_tiles(game_state.player1.hand)"
   ]
  },
  {
   "cell_type": "code",
   "execution_count": 50,
   "id": "eb4113eb",
   "metadata": {},
   "outputs": [
    {
     "name": "stdout",
     "output_type": "stream",
     "text": [
      "tile count = 14\n",
      "3 Tong\n",
      "9 Wan\n",
      "2 Suo\n",
      "0 Bai_Ban\n",
      "4 Wan\n",
      "1 Wan\n",
      "6 Wan\n",
      "2 Wan\n",
      "0 Xi\n",
      "2 Wan\n",
      "1 Tong\n",
      "7 Suo\n",
      "6 Wan\n",
      "2 Wan\n"
     ]
    }
   ],
   "source": [
    "state1 = copy.deepcopy(game_state)\n",
    "random.shuffle(state1.player1.hand)\n",
    "display_tiles(state1.player1.hand)\n"
   ]
  },
  {
   "cell_type": "code",
   "execution_count": 47,
   "id": "cb54a36a",
   "metadata": {},
   "outputs": [
    {
     "name": "stdout",
     "output_type": "stream",
     "text": [
      "~Player Hand~\n",
      "tile count = 13\n",
      "8 Tong\n",
      "4 Tong\n",
      "6 Wan\n",
      "7 Tong\n",
      "1 Tong\n",
      "8 Wan\n",
      "0 Bei\n",
      "0 Fa_Cai\n",
      "5 Wan\n",
      "0 Bai_Ban\n",
      "7 Suo\n",
      "9 Wan\n",
      "0 Fa_Cai\n",
      "--------------\n",
      "~Discard Pile~\n",
      "tile count = 12\n",
      "5 Tong\n",
      "6 Tong\n",
      "8 Tong\n",
      "3 Wan\n",
      "5 Tong\n",
      "1 Tong\n",
      "3 Suo\n",
      "6 Tong\n",
      "9 Suo\n",
      "0 Bai_Ban\n",
      "7 Wan\n",
      "5 Wan\n",
      "--------------\n",
      "~Draw Pile~\n",
      "tile count = 111\n"
     ]
    }
   ],
   "source": [
    "discard_tile = 0\n",
    "update_state(game_state,discard_tile)\n",
    "display_state(game_state)\n"
   ]
  },
  {
   "cell_type": "code",
   "execution_count": 52,
   "id": "2e53777f",
   "metadata": {},
   "outputs": [],
   "source": [
    "N_dict = {}\n",
    "N_dict[0] = "
   ]
  },
  {
   "cell_type": "code",
   "execution_count": 94,
   "id": "bd0cd7c6",
   "metadata": {},
   "outputs": [
    {
     "data": {
      "text/plain": [
       "3275329101398170520"
      ]
     },
     "execution_count": 94,
     "metadata": {},
     "output_type": "execute_result"
    }
   ],
   "source": [
    "random_seed = random.choices(np.arange(33*4),k=14)\n",
    "state = np.zeros([33,4])\n",
    "for i in random_seed:\n",
    "    # int(i/4) gives tile no., i%4 gives copy no.\n",
    "    state[int(i/4),i%4]=1\n",
    "hash(state.tobytes())"
   ]
  },
  {
   "cell_type": "code",
   "execution_count": 77,
   "id": "6f9a59e8",
   "metadata": {},
   "outputs": [
    {
     "data": {
      "text/plain": [
       "-2730353257153446200"
      ]
     },
     "execution_count": 77,
     "metadata": {},
     "output_type": "execute_result"
    }
   ],
   "source": [
    "hash(state2.tobytes())"
   ]
  },
  {
   "cell_type": "code",
   "execution_count": 76,
   "id": "da5d50e2",
   "metadata": {},
   "outputs": [
    {
     "data": {
      "text/plain": [
       "-2730353257153446200"
      ]
     },
     "execution_count": 76,
     "metadata": {},
     "output_type": "execute_result"
    }
   ],
   "source": [
    "hash(state.tobytes())"
   ]
  },
  {
   "cell_type": "code",
   "execution_count": 81,
   "id": "23e7b7f2",
   "metadata": {},
   "outputs": [
    {
     "data": {
      "text/plain": [
       "True"
      ]
     },
     "execution_count": 81,
     "metadata": {},
     "output_type": "execute_result"
    }
   ],
   "source": [
    "hash(state2.tobytes()) in N_dict.keys()"
   ]
  },
  {
   "cell_type": "code",
   "execution_count": 56,
   "id": "345e7406",
   "metadata": {},
   "outputs": [],
   "source": [
    "state2 = state.copy()"
   ]
  },
  {
   "cell_type": "code",
   "execution_count": 82,
   "id": "1e65584e",
   "metadata": {},
   "outputs": [
    {
     "data": {
      "text/plain": [
       "{0: -2730353257153446200, -2730353257153446200: 0}"
      ]
     },
     "execution_count": 82,
     "metadata": {},
     "output_type": "execute_result"
    }
   ],
   "source": [
    "N_dict"
   ]
  },
  {
   "cell_type": "code",
   "execution_count": null,
   "id": "59b7d64e",
   "metadata": {},
   "outputs": [],
   "source": [
    "class Policy(object):\n",
    "    def __init__(self,n_tiles):\n",
    "    self.N = []\n",
    "    self.state_dict = {}\n",
    "    self.N_dict = {}\n",
    "    self.n_tiles = n_tiles\n",
    "    \n",
    "# define policy globally - anything that is an attribute of policy is global\n",
    "policy = Policy(n_tiles = 33*4)\n",
    "\n",
    "# game_state consists of: [state.player1.hand, state.discard_pile.deck, state.draw_pile.deck]\n",
    "def MonteCarloTreeSearch(state,m_simulations):\n",
    "    for k in range(m_simulations):\n",
    "        simulate(state)\n",
    "    return optimal_action\n",
    "\n",
    "def simulate(state, depth):\n",
    "    if is_winning_hand(state):\n",
    "        print('winning score:',score)\n",
    "        break\n",
    "\n",
    "    if depth <= 0:\n",
    "        return policy.U[s]\n",
    "    \n",
    "    s_hash = hash(state.tobytes())\n",
    "    if s_hash not in policy.N_dict.keys():\n",
    "        new_index = max(N_dict.values())+1\n",
    "        policy.state_dict.update({new_index:state})\n",
    "        policy.N_dict.update({s_hash:new_index})\n",
    "        policy.N.append(np.zeros(policy.n_tiles))\n",
    "        policy.Q.append(np.zeros(policy.n_tiles))\n",
    "    \n",
    "    if [s, a] in N:\n",
    "        return U[s]\n",
    "    \n",
    "    possible_actions = get_possible_actions(state)\n",
    "    \n",
    "    discard_tile_action = explore()\n",
    "    \n",
    "    next_state, reward = update_state(state, discard_tile_action)\n",
    "    \n",
    "    q = reward + gamma*simulate(next_state, depth-1)\n",
    "    policy.N[s,a] += 1\n",
    "    policy.Q[s,a] += (q-Q[s,a])/policy.N[s,a]\n",
    "    return q\n",
    "\n",
    "# action = explore(policy, state)\n",
    "\n",
    "# np.inf*(N[s,a] == 0) returns infinity if the state has yet to be explored\n",
    "def exploration_bonus(Nsa,Ns): \n",
    "    return np.inf*(Nsa == 0) + np.sqrt(np.log(Ns)/Nsa)\n",
    "\n",
    "# equation (9.1) - Q(s,a)+c*sqrt(logN(s)/N(s,a))\n",
    "def explore(state,):\n",
    "    Ns = np.sum(policy.N[s,:])\n",
    "    return np.argmax(Q[state,action] = exploration_parameter * exploration_bonus(policy.N[s,a],Ns))\n",
    "\n",
    "def random_policy(state):\n",
    "    while not is_winning_hand(state):\n",
    "        try:\n",
    "            state = choose_random_action(state)\n",
    "        except IndexError:\n",
    "            raise Exception(\"Non-terminal state has no possible actions: \" + str(state))\n",
    "    return get_reward(state)"
   ]
  },
  {
   "cell_type": "code",
   "execution_count": null,
   "id": "001f61a4",
   "metadata": {},
   "outputs": [],
   "source": []
  }
 ],
 "metadata": {
  "kernelspec": {
   "display_name": "Python 3 (ipykernel)",
   "language": "python",
   "name": "python3"
  },
  "language_info": {
   "codemirror_mode": {
    "name": "ipython",
    "version": 3
   },
   "file_extension": ".py",
   "mimetype": "text/x-python",
   "name": "python",
   "nbconvert_exporter": "python",
   "pygments_lexer": "ipython3",
   "version": "3.9.12"
  },
  "vscode": {
   "interpreter": {
    "hash": "7122adb744740e507ab43c807646a989cfd0e5a91b89232016711cafc2d838ff"
   }
  }
 },
 "nbformat": 4,
 "nbformat_minor": 5
}
