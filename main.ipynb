{
 "cells": [
  {
   "cell_type": "code",
   "execution_count": 1,
   "id": "7702c9a3",
   "metadata": {},
   "outputs": [],
   "source": [
    "import numpy as np\n",
    "import random\n",
    "# Note: To use this import: pip install ipynb\n",
    "from ipynb.fs.full.mahjong_rules import Tile, Draw_Pile, Discard_Pile, Player, score_hand, display_tiles"
   ]
  },
  {
   "cell_type": "markdown",
   "id": "cb6e0c8a",
   "metadata": {},
   "source": [
    "### Hyperparameters"
   ]
  },
  {
   "cell_type": "code",
   "execution_count": 2,
   "id": "30d02733",
   "metadata": {},
   "outputs": [],
   "source": [
    "max_depth = 10\n",
    "exploration_parameter = 100"
   ]
  },
  {
   "cell_type": "markdown",
   "id": "4aaf9d9e",
   "metadata": {},
   "source": [
    "### Initialize Mahjong Game"
   ]
  },
  {
   "cell_type": "code",
   "execution_count": 3,
   "id": "96c5adb2",
   "metadata": {},
   "outputs": [],
   "source": [
    "# Initialize the starting draw pile and shuffle it\n",
    "# Note: It is stored as draw_pile.deck\n",
    "draw_pile = Draw_Pile()\n",
    "random.shuffle(draw_pile.deck)\n",
    "\n",
    "# Give player one 13 + 1 starting tiles\n",
    "# Note: It is stored as player1.hand\n",
    "player1 = Player()\n",
    "for n in range(14):\n",
    "    player1.hand.append(draw_pile.deal())\n",
    "    \n",
    "discard_pile = Discard_Pile()"
   ]
  },
  {
   "cell_type": "markdown",
   "id": "ea6c715b",
   "metadata": {},
   "source": [
    "### Deal Tile"
   ]
  },
  {
   "cell_type": "code",
   "execution_count": 5,
   "id": "01d617dd",
   "metadata": {},
   "outputs": [],
   "source": [
    "player1.hand.append(draw_pile.deal())"
   ]
  },
  {
   "cell_type": "code",
   "execution_count": 8,
   "id": "9e92e246",
   "metadata": {},
   "outputs": [
    {
     "name": "stdout",
     "output_type": "stream",
     "text": [
      "~Player Hand~\n",
      "tile count = 13\n",
      "6 Tong\n",
      "8 Tong\n",
      "3 Wan\n",
      "5 Tong\n",
      "1 Tong\n",
      "3 Suo\n",
      "6 Tong\n",
      "9 Suo\n",
      "0 Bai_Ban\n",
      "7 Wan\n",
      "5 Wan\n",
      "8 Tong\n",
      "4 Tong\n",
      "\n",
      "\n",
      "~Discard Pile~\n",
      "tile count = 1\n",
      "5 Tong\n"
     ]
    }
   ],
   "source": []
  },
  {
   "cell_type": "code",
   "execution_count": 7,
   "id": "7015b43f",
   "metadata": {},
   "outputs": [],
   "source": [
    "tile = 2\n",
    "discard_pile.deck.append(player1.discard(tile))"
   ]
  },
  {
   "cell_type": "code",
   "execution_count": 46,
   "id": "0bf6407f",
   "metadata": {},
   "outputs": [],
   "source": [
    "# Initialize a game state object, consists of player hand, discard pile and draw pile\n",
    "class Game_State(object):\n",
    "    def __init__(self, player1, discard_pile, draw_pile):\n",
    "        self.player1 = player1\n",
    "        self.discard_pile = discard_pile\n",
    "        self.draw_pile = draw_pile\n",
    "\n",
    "def update_state(state,discard_tile):\n",
    "    # Discard the tile from the player hand to the discard pile\n",
    "    state.discard_pile.deck.append(state.player1.discard(discard_tile))\n",
    "    # Draw a new tile from the draw pile into the player hand\n",
    "    state.player1.hand.append(state.draw_pile.deal())\n",
    "    return state        \n",
    "        \n",
    "# Use this function to output the entire state to see \n",
    "# Displays player hand & discard pile\n",
    "# Does not display draw pile (only shows how many tiles remaining)\n",
    "def display_state(state):\n",
    "    print('~Player Hand~')\n",
    "    display_tiles(state.player1.hand)\n",
    "    print('--------------')\n",
    "    print('~Discard Pile~')\n",
    "    display_tiles(state.discard_pile.deck)\n",
    "    print('--------------')\n",
    "    print('~Draw Pile~')\n",
    "    print('tile count =',len(state.draw_pile))"
   ]
  },
  {
   "cell_type": "code",
   "execution_count": 16,
   "id": "e3954ac3",
   "metadata": {},
   "outputs": [],
   "source": [
    "# Initialize a game state object, consists of player hand, discard pile and draw pile\n",
    "game_state = Game_State(player1=player1, discard_pile=discard_pile, draw_pile=draw_pile)"
   ]
  },
  {
   "cell_type": "code",
   "execution_count": 47,
   "id": "cb54a36a",
   "metadata": {},
   "outputs": [
    {
     "name": "stdout",
     "output_type": "stream",
     "text": [
      "~Player Hand~\n",
      "tile count = 13\n",
      "8 Tong\n",
      "4 Tong\n",
      "6 Wan\n",
      "7 Tong\n",
      "1 Tong\n",
      "8 Wan\n",
      "0 Bei\n",
      "0 Fa_Cai\n",
      "5 Wan\n",
      "0 Bai_Ban\n",
      "7 Suo\n",
      "9 Wan\n",
      "0 Fa_Cai\n",
      "--------------\n",
      "~Discard Pile~\n",
      "tile count = 12\n",
      "5 Tong\n",
      "6 Tong\n",
      "8 Tong\n",
      "3 Wan\n",
      "5 Tong\n",
      "1 Tong\n",
      "3 Suo\n",
      "6 Tong\n",
      "9 Suo\n",
      "0 Bai_Ban\n",
      "7 Wan\n",
      "5 Wan\n",
      "--------------\n",
      "~Draw Pile~\n",
      "tile count = 111\n"
     ]
    }
   ],
   "source": [
    "discard_tile = 0\n",
    "update_state(game_state,discard_tile)\n",
    "display_state(game_state)"
   ]
  },
  {
   "cell_type": "code",
   "execution_count": null,
   "id": "59b7d64e",
   "metadata": {},
   "outputs": [],
   "source": [
    "# game_state consists of: [state.player1.hand, state.discard_pile.deck, state.draw_pile.deck]\n",
    "def MonteCarloTreeSearch(state,m_simulations):\n",
    "    for k in range(m_simulations):\n",
    "        simulate(state)\n",
    "    return optimal_action\n",
    "\n",
    "def simulate(state, depth):\n",
    "    if is_winning_hand(state.player1.hand):\n",
    "        print(score)\n",
    "        break\n",
    "    if depth <= 0:\n",
    "        return policy\n",
    "    possible_actions = player1.hand\n",
    "    N = np.zeros(len(player1.hand))\n",
    "    Q = np.zeros(len(player1.hand))\n",
    "    next_state, reward = update_state(game_state, discard_tile)\n",
    "    q = r + gamma*simulate(next_state, depth-1)\n",
    "    N[s,a] += 1\n",
    "    Q[s,a] += (q-Q[s,a])/N[s,a]\n",
    "    return q\n",
    "\n",
    "def explore():\n",
    "    \n",
    "\n",
    "action = explore(policy, state)\n",
    "\n",
    "\n",
    "\n",
    "# np.inf*(N[s,a] == 0) returns infinity if the state has yet to be explored\n",
    "def exploration_bonus(Nsa,Ns): \n",
    "    return np.inf*(Nsa == 0) + np.sqrt(np.log(Ns)/Nsa)\n",
    "\n",
    "# equation (9.1) - Q(s,a)+c*sqrt(logN(s)/N(s,a))\n",
    "def explore():\n",
    "    N_s = np.sum(N[s,:])\n",
    "    return np.argmax(Q[state,action] = exploration_parameter * exploration_bonus())"
   ]
  },
  {
   "cell_type": "code",
   "execution_count": null,
   "id": "001f61a4",
   "metadata": {},
   "outputs": [],
   "source": []
  }
 ],
 "metadata": {
  "kernelspec": {
   "display_name": "Python 3 (ipykernel)",
   "language": "python",
   "name": "python3"
  },
  "language_info": {
   "codemirror_mode": {
    "name": "ipython",
    "version": 3
   },
   "file_extension": ".py",
   "mimetype": "text/x-python",
   "name": "python",
   "nbconvert_exporter": "python",
   "pygments_lexer": "ipython3",
   "version": "3.9.13"
  },
  "vscode": {
   "interpreter": {
    "hash": "7122adb744740e507ab43c807646a989cfd0e5a91b89232016711cafc2d838ff"
   }
  }
 },
 "nbformat": 4,
 "nbformat_minor": 5
}
