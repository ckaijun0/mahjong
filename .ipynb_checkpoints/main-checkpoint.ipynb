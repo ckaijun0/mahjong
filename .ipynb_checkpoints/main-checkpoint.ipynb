{
 "cells": [
  {
   "cell_type": "code",
   "execution_count": 48,
   "id": "7702c9a3",
   "metadata": {},
   "outputs": [],
   "source": [
    "import numpy as np\n",
    "import random\n",
    "import copy\n",
    "from collections import Counter\n",
    "# Note: To use this import: pip install ipynb\n",
    "from ipynb.fs.full.mahjong_rules import Tile, Draw_Pile, Discard_Pile, Player, score_hand, display_tiles"
   ]
  },
  {
   "cell_type": "markdown",
   "id": "4aaf9d9e",
   "metadata": {},
   "source": [
    "### Initialize Mahjong Game"
   ]
  },
  {
   "cell_type": "code",
   "execution_count": 37,
   "id": "96c5adb2",
   "metadata": {},
   "outputs": [],
   "source": [
    "def initialize_game_state():\n",
    "    # Initialize the starting draw pile and shuffle it\n",
    "    # Note: It is stored as draw_pile.deck\n",
    "    draw_pile = Draw_Pile()\n",
    "    random.shuffle(draw_pile.deck)\n",
    "\n",
    "    # Give player one 13 + 1 starting tiles\n",
    "    # Note: It is stored as player1.hand\n",
    "    player1 = Player()\n",
    "    for n in range(14):\n",
    "        player1.hand.append(draw_pile.deal())\n",
    "\n",
    "    discard_pile = Discard_Pile()\n",
    "\n",
    "    return Game_State(player1=player1, discard_pile=discard_pile, draw_pile=draw_pile)\n"
   ]
  },
  {
   "cell_type": "markdown",
   "id": "ea6c715b",
   "metadata": {},
   "source": [
    "### Deal Tile"
   ]
  },
  {
   "cell_type": "code",
   "execution_count": 15,
   "id": "0bf6407f",
   "metadata": {},
   "outputs": [],
   "source": [
    "# Initialize a game state object, consists of player hand, discard pile and draw pile\n",
    "class Game_State(object):\n",
    "    def __init__(self, player1, discard_pile, draw_pile):\n",
    "        self.player1 = player1\n",
    "        self.discard_pile = discard_pile\n",
    "        self.draw_pile = draw_pile\n",
    "        \n",
    "    def get_possible_actions():\n",
    "        return self.player1.hand\n",
    "\n",
    "def update_state(state,discard_tile):\n",
    "    # Discard the tile from the player hand to the discard pile\n",
    "    state.discard_pile.deck.append(state.player1.discard(discard_tile))\n",
    "    # Draw a new tile from the draw pile into the player hand\n",
    "    state.player1.hand.append(state.draw_pile.deal())\n",
    "    return state        \n",
    "        \n",
    "# Use this function to output the entire state to see \n",
    "# Displays player hand & discard pile\n",
    "# Does not display draw pile (only shows how many tiles remaining)\n",
    "def display_state(state):\n",
    "    print('~Player Hand~')\n",
    "    display_tiles(state.player1.hand)\n",
    "    print('--------------')\n",
    "    print('~Discard Pile~')\n",
    "    display_tiles(state.discard_pile.deck)\n",
    "    print('--------------')\n",
    "    print('~Draw Pile~')\n",
    "    print('tile count =',len(state.draw_pile))"
   ]
  },
  {
   "cell_type": "code",
   "execution_count": 50,
   "id": "4bb5221f",
   "metadata": {},
   "outputs": [
    {
     "name": "stdout",
     "output_type": "stream",
     "text": [
      "tile count = 14\n",
      "3 Tong\n",
      "9 Wan\n",
      "2 Suo\n",
      "0 Bai_Ban\n",
      "4 Wan\n",
      "1 Wan\n",
      "6 Wan\n",
      "2 Wan\n",
      "0 Xi\n",
      "2 Wan\n",
      "1 Tong\n",
      "7 Suo\n",
      "6 Wan\n",
      "2 Wan\n"
     ]
    }
   ],
   "source": [
    "state1 = copy.deepcopy(game_state)\n",
    "random.shuffle(state1.player1.hand)\n",
    "display_tiles(state1.player1.hand)\n"
   ]
  },
  {
   "cell_type": "code",
   "execution_count": 53,
   "id": "fd897abf",
   "metadata": {},
   "outputs": [
    {
     "data": {
      "text/plain": [
       "7947700045660605086"
      ]
     },
     "execution_count": 53,
     "metadata": {},
     "output_type": "execute_result"
    }
   ],
   "source": [
    "random_seed = random.choices(np.arange(33*4),k=14)\n",
    "state = np.zeros([33,4])\n",
    "for i in random_seed:\n",
    "    # int(i/4) gives tile no., i%4 gives copy no.\n",
    "    state[int(i/4),i%4]=1\n",
    "s_hash = hash(state.tobytes())\n",
    "s_hash"
   ]
  },
  {
   "cell_type": "code",
   "execution_count": null,
   "id": "59b7d64e",
   "metadata": {},
   "outputs": [],
   "source": [
    "class Policy(object):\n",
    "    def __init__(self,n_tiles):\n",
    "    self.N = []\n",
    "    self.state_dict = {}\n",
    "    self.N_dict = {}\n",
    "    self.n_tiles = n_tiles\n",
    "    self.exploration_parameter = 1\n",
    "    self.depth = 5\n",
    "    \n",
    "def MonteCarloTreeSearch(state,m_simulations):\n",
    "    # define policy globally so that dont need to keep passing it around\n",
    "    global policy\n",
    "    policy = Policy(n_tiles = len(state)*len(state[0]))\n",
    "    \n",
    "    for k in range(m_simulations):\n",
    "        simulate(state, depth)\n",
    "    \n",
    "    # state = 2D array representing mahjong game state np.array([33,4])\n",
    "    s_hash = hash(state.tobytes()) # s_hash = state converted to bytes (e.g., -6026512037226545482, 7947700045660605086)\n",
    "    s = N_dict[s_hash] # s = index (e.g., 1,2,3,..)\n",
    "    \n",
    "    # Return a list of numbers between 0 and 33*4 that I can select from\n",
    "    possible_a = get_possible_actions(state)\n",
    "    \n",
    "    # policy.Q[s,possible_a] is updated globally in the \"simulate\" function\n",
    "    optimal_action = np.argmax(policy.Q[s,possible_a])\n",
    "    \n",
    "    return optimal_action\n",
    "\n",
    "def simulate(state, depth):\n",
    "    if is_winning_hand(state): # NEED FUNCTION #\n",
    "        return get_reward(state) # NEED FUNCTION #\n",
    "\n",
    "    if depth <= 0:\n",
    "        return q\n",
    "    \n",
    "    # Return a list of numbers between 0 and 33*4 that I can select from\n",
    "    possible_actions = get_possible_actions(state) # NEED FUNCTION #\n",
    "    \n",
    "    s_hash = hash(state.tobytes())\n",
    "    if s_hash not in policy.N_dict.keys():\n",
    "        new_index = max(N_dict.values())+1\n",
    "        policy.state_dict.update({new_index:state})\n",
    "        policy.N_dict.update({s_hash:new_index})\n",
    "        policy.N.append(np.zeros(policy.n_tiles))\n",
    "        policy.Q.append(np.zeros(policy.n_tiles))\n",
    "    s = N_dict[s_hash]\n",
    "    \n",
    "    discard_tile_action = explore(state)\n",
    "    \n",
    "    # Return a new state - discard tile and draw tile. Also return the reward for that state\n",
    "    next_state, reward = update_state(state, discard_tile_action) # NEED FUNCTION #\n",
    "    \n",
    "    q = reward + gamma*simulate(next_state, depth-1)\n",
    "    policy.N[s,a] += 1\n",
    "    policy.Q[s,a] += (q-Q[s,a])/policy.N[s,a]\n",
    "    return q\n",
    "\n",
    "# np.inf*(N[s,a] == 0) returns infinity if the state has yet to be explored\n",
    "def exploration_bonus(Nsa,Ns): \n",
    "    return np.inf*(Nsa == 0) + np.sqrt(np.log(Ns)/Nsa)\n",
    "\n",
    "# equation (9.1) - Q(s,a)+c*sqrt(logN(s)/N(s,a))\n",
    "def explore(s,possible_a):\n",
    "    Ns = np.sum(policy.N[s,possible_a])\n",
    "    policy.Q[s,a] = policy.exploration_parameter * exploration_bonus(policy.N[s,a],Ns)\n",
    "    return np.argmax(policy.Q[s,possible_a])\n",
    "\n",
    "def random_policy(state):\n",
    "    while not is_winning_hand(state):\n",
    "        try:\n",
    "            state = choose_random_action(state)\n",
    "        except IndexError:\n",
    "            raise Exception(\"Non-terminal state has no possible actions: \" + str(state))\n",
    "    return get_reward(state)"
   ]
  },
  {
   "cell_type": "code",
   "execution_count": null,
   "id": "001f61a4",
   "metadata": {},
   "outputs": [],
   "source": []
  }
 ],
 "metadata": {
  "kernelspec": {
   "display_name": "Python 3 (ipykernel)",
   "language": "python",
   "name": "python3"
  },
  "language_info": {
   "codemirror_mode": {
    "name": "ipython",
    "version": 3
   },
   "file_extension": ".py",
   "mimetype": "text/x-python",
   "name": "python",
   "nbconvert_exporter": "python",
   "pygments_lexer": "ipython3",
   "version": "3.9.13"
  },
  "vscode": {
   "interpreter": {
    "hash": "7122adb744740e507ab43c807646a989cfd0e5a91b89232016711cafc2d838ff"
   }
  }
 },
 "nbformat": 4,
 "nbformat_minor": 5
}
