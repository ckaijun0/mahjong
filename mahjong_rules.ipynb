{
 "cells": [
  {
   "cell_type": "code",
   "execution_count": 114,
   "id": "28b527ef",
   "metadata": {},
   "outputs": [],
   "source": [
    "import numpy as np\n",
    "import random"
   ]
  },
  {
   "cell_type": "markdown",
   "id": "d8268139",
   "metadata": {},
   "source": [
    "### Mahjong State Dictionary"
   ]
  },
  {
   "cell_type": "code",
   "execution_count": 115,
   "id": "2d38cb20",
   "metadata": {},
   "outputs": [],
   "source": [
    "mahjong_dict = {0:'1 Tong',1:'2 Tong',2:'3 Tong',3:'4 Tong',4:'5 Tong',5:'6 Tong',6:'7 Tong',7:'8 Tong',8:'9 Tong',\n",
    "              9:'1 Wan',10:'2 Wan',11:'3 Wan',12:'4 Wan',13:'5 Wan',14:'6 Wan',15:'7 Wan',16:'8 Wan',17:'9 Wan',\n",
    "              18:'1 Suo',19:'2 Suo',20:'3 Suo',21:'4 Suo',22:'5 Suo',23:'6 Suo',24:'7 Suo',25:'8 Suo',26:'9 Suo',\n",
    "              27:'Dong',28:'Nan',29:'Xi',30:'Bei',\n",
    "              31:'Bai_Ban',32:'Fa_Cai',33:'Hong_Zhong'}\n",
    "\n",
    "def initialize_mahjong():\n",
    "    random_seed = random.choices(np.arange(33*4),k=14)\n",
    "    state = np.zeros([33,4])\n",
    "    for i in random_seed:\n",
    "        # int(i/4) gives tile no., i%4 gives copy no.\n",
    "        state[int(i/4),i%4]=1\n",
    "    return state"
   ]
  },
  {
   "cell_type": "code",
   "execution_count": 116,
   "id": "0d25d80e",
   "metadata": {},
   "outputs": [],
   "source": [
    "simple_mahjong_dict = {0:'1 Tong',1:'2 Tong',2:'3 Tong',3:'4 Tong',4:'5 Tong',5:'6 Tong',\n",
    "                       6:'1 Wan',7:'2 Wan',8:'3 Wan',9:'4 Wan',10:'5 Wan',11:'6 Wan'}\n",
    "\n",
    "def initialize_simple_mahjong():\n",
    "    random_seed = random.choices(np.arange(12*4),k=8)\n",
    "    state = np.zeros([12,4])\n",
    "    for i in random_seed:\n",
    "        # int(i/4) gives tile no., i%4 gives copy no.\n",
    "        state[int(i/4),i%4]=1\n",
    "    return state"
   ]
  },
  {
   "cell_type": "markdown",
   "id": "0a68607a",
   "metadata": {},
   "source": [
    "### Functions for Checking"
   ]
  },
  {
   "cell_type": "code",
   "execution_count": 117,
   "id": "79ddd936",
   "metadata": {},
   "outputs": [],
   "source": [
    "def is_winning_hand(state):\n",
    "    return False\n",
    "\n",
    "def get_reward():\n",
    "    return random"
   ]
  },
  {
   "cell_type": "markdown",
   "id": "ef8f067a",
   "metadata": {},
   "source": [
    "### Mahjong Actions"
   ]
  },
  {
   "cell_type": "code",
   "execution_count": 2,
   "id": "667bc6d1",
   "metadata": {},
   "outputs": [],
   "source": [
    "# Converts a value between 0 and 13 to the tile to discard in that state\n",
    "def discard_tile(state,action):\n",
    "    # action = value between 0 and 13\n",
    "    tile_ind = [i for i, x in enumerate(state.flatten()) if x == 1]\n",
    "    # e.g. tile_ind [1, 8, 10, 11, 27, 39, 72, 73, 82, 88, 98, 115, 118]\n",
    "    # action = 2\n",
    "    # tile_ind[action] = 10\n",
    "    return int(tile_ind[action]/4), tile_ind[action]%4\n",
    "\n",
    "# Select a random index that is of value 0 (draw_pile) to the tile to discard in that state\n",
    "def draw_tile(state):\n",
    "    tile_ind = [i for i, x in enumerate(state.flatten()) if x == 0]\n",
    "    rand_tile = random.choice(tile_ind)\n",
    "    return int(rand_tile/4), rand_tile%4\n",
    "\n",
    "def get_reward(state):\n",
    "    ### FILL IN ###\n",
    "    ### To include both Mahjong scoring rules and artificial tiny reward for 'pong's\n",
    "    return 0\n",
    "\n",
    "# Discard and randomly draw a tile\n",
    "def update_state(state,action):\n",
    "    x,y = discard_tile(state,action)\n",
    "    state[x,y] = 10 # discard pile = 10\n",
    "    x,y = draw_tile(state)\n",
    "    state[x,y] = 1 # player hand = 1\n",
    "    # compute reward of updated state\n",
    "    reward = get_reward(state)\n",
    "    return state, reward\n",
    "\n",
    "# Use this function to output the entire state to see \n",
    "# Displays player hand & discard pile\n",
    "# Does not display draw pile (only shows how many tiles remaining)\n",
    "def display_tiles(state):\n",
    "    print('~Player Hand~')\n",
    "    player1_hand_ind = [i for i, x in enumerate(state.flatten()) if x == 1]\n",
    "    player1_hand = [mahjong_dict.get(int(key/4)) for key in player1_hand_ind]\n",
    "    print(player1_hand)\n",
    "    print('--------------')\n",
    "    print('~Discard Pile~')\n",
    "    discard_pile_ind = [i for i, x in enumerate(state.flatten()) if x == 10]\n",
    "    discard_pile = [mahjong_dict.get(int(key/4)) for key in discard_pile_ind]\n",
    "    print(discard_pile)\n",
    "    print('--------------')\n",
    "    print('~Draw Pile~')\n",
    "    print('tile count =',33*4-len(player1_hand)-len(discard_pile))"
   ]
  },
  {
   "cell_type": "markdown",
   "id": "a5462ccd",
   "metadata": {},
   "source": [
    "### Functions for Decision Making"
   ]
  },
  {
   "cell_type": "code",
   "execution_count": 8,
   "id": "58158457",
   "metadata": {},
   "outputs": [],
   "source": [
    "def decide(player_hand, drawn_tile, discard_pile):\n",
    "    #### The decision function to eventually go here\n",
    "    if winning_hand == 1:\n",
    "        return score\n",
    "    elif kong == 1:\n",
    "        kong_count = kong_count + 1\n",
    "        return kong_count\n",
    "    else:\n",
    "        return tile_to_discard\n",
    "    \n",
    "def value_function():\n",
    "    #### If our value function is to differ from the official scoring rules\n",
    "    value = score_hand()\n",
    "    return value"
   ]
  },
  {
   "cell_type": "code",
   "execution_count": 15,
   "id": "18b47875",
   "metadata": {},
   "outputs": [
    {
     "data": {
      "text/plain": [
       "False"
      ]
     },
     "execution_count": 15,
     "metadata": {},
     "output_type": "execute_result"
    }
   ],
   "source": [
    "all(np.sum(np.matrix([[1,1,1],[2,2,2]]), axis = 1)%2 == 1)\n"
   ]
  },
  {
   "cell_type": "code",
   "execution_count": 7,
   "id": "632caf78",
   "metadata": {},
   "outputs": [
    {
     "data": {
      "text/plain": [
       "2"
      ]
     },
     "execution_count": 7,
     "metadata": {},
     "output_type": "execute_result"
    }
   ],
   "source": [
    "12 % 10"
   ]
  },
  {
   "cell_type": "code",
   "execution_count": null,
   "id": "cbc5bf8b",
   "metadata": {},
   "outputs": [],
   "source": []
  },
  {
   "cell_type": "markdown",
   "id": "9b52a382",
   "metadata": {},
   "source": [
    "### Old Functions for Mahjong Rules"
   ]
  },
  {
   "cell_type": "markdown",
   "id": "5e5fb6d3",
   "metadata": {},
   "source": [
    "def initialize_game_state():\n",
    "    state = np.zeros(3*9+7)\n",
    "    return state\n",
    "\n",
    "class Tile:\n",
    "    def __init__(self, tileno, suit, copyno):\n",
    "        self.tileno = tileno\n",
    "        self.suit = suit\n",
    "        self.copyno = copyno # To ensure that each tile is unique, assign a copy number to the tile (just in case)\n",
    "\n",
    "class Draw_Pile(object):\n",
    "    def __init__(self):\n",
    "        self.deck = []\n",
    "        for suit in ['Tong','Wan','Suo']:\n",
    "            for tileno in range(1,10):\n",
    "                for copyno in range(1,5):\n",
    "                    tile = Tile(tileno, suit, copyno)\n",
    "                    self.deck.append(tile)\n",
    "        # Assign number 0 for the wind and dragon tiles as placeholder\n",
    "        for suit in ['Dong','Nan','Xi','Bei','Bai_Ban','Fa_Cai','Hong_Zhong']:\n",
    "            for copyno in range(1,5):\n",
    "                tile = Tile(0, suit, copyno)\n",
    "                self.deck.append(tile)\n",
    "    \n",
    "    def __len__ (self):\n",
    "        return len(self.deck)\n",
    "    \n",
    "    # Deal a tile from index 0 to the player and removes it from Draw_Pile.deck\n",
    "    def deal(self):\n",
    "        if len(self.deck) == 0:\n",
    "            return None\n",
    "        else:\n",
    "            return self.deck.pop(0)\n",
    "\n",
    "class Discard_Pile(object):\n",
    "    def __init__(self):\n",
    "        self.deck = []        \n",
    "        \n",
    "class Player(object):\n",
    "    def __init__(self):\n",
    "        self.hand = []\n",
    "        # The fourth piece of a kong is not considered one of the 13 tiles a player must always have in their hand.\n",
    "        # For every melded kong, hand size increases by 1, so we need to track this\n",
    "        self.melded_kong_count = 0\n",
    "        self.melded_hand = []\n",
    "        \n",
    "    def discard(self,tile):\n",
    "        if len(self.hand) == 0:\n",
    "            return None\n",
    "        else:\n",
    "            return self.hand.pop(tile)\n",
    "\n",
    "def score_hand(hand):\n",
    "    #### Mahjong official rules scoring function to go here\n",
    "    \n",
    "    # Thirteen Orphans\n",
    "    if np.bincount(hand[0,:])[1] == 1 and np.bincount(hand[8,:])[1] == 1 and np.bincount(hand[9,:])[1] == 1 and np.bincount(hand[15,:])[1] == 1 and np.bincount(hand[16,:])[1] == 1 and np.bincount(hand[24,:])[1] == 1:\n",
    "        if any(np.sum(hand[25:,:],axis = 1)%10 == 3):\n",
    "            break\n",
    "        elif np.bincount(np.sum(hand[25:,:],axis = 1)%10)[1] == 6:\n",
    "            return 13\n",
    "        \n",
    "        \n",
    "        \n",
    "    \n",
    "        \n",
    "            \n",
    "    \n",
    "    \n",
    "    return score"
   ]
  }
 ],
 "metadata": {
  "kernelspec": {
   "display_name": "Python 3 (ipykernel)",
   "language": "python",
   "name": "python3"
  },
  "language_info": {
   "codemirror_mode": {
    "name": "ipython",
    "version": 3
   },
   "file_extension": ".py",
   "mimetype": "text/x-python",
   "name": "python",
   "nbconvert_exporter": "python",
   "pygments_lexer": "ipython3",
   "version": "3.9.13"
  }
 },
 "nbformat": 4,
 "nbformat_minor": 5
}
