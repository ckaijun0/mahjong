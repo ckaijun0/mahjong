{
 "cells": [
  {
   "cell_type": "code",
   "execution_count": 1,
   "id": "28b527ef",
   "metadata": {},
   "outputs": [],
   "source": [
    "import numpy as np\n",
    "import random"
   ]
  },
  {
   "cell_type": "markdown",
   "id": "9b52a382",
   "metadata": {},
   "source": [
    "### Functions for Mahjong Rules"
   ]
  },
  {
   "cell_type": "code",
   "execution_count": 14,
   "id": "7eb8aa7d",
   "metadata": {},
   "outputs": [],
   "source": [
    "def initialize_game_state():\n",
    "    state = np.zeros(3*9+7)\n",
    "    return state\n",
    "\n",
    "class Tile:\n",
    "    def __init__(self, tileno, suit, copyno):\n",
    "        self.tileno = tileno\n",
    "        self.suit = suit\n",
    "        self.copyno = copyno # To ensure that each tile is unique, assign a copy number to the tile (just in case)\n",
    "\n",
    "class Draw_Pile(object):\n",
    "    def __init__(self):\n",
    "        self.deck = []\n",
    "        for suit in ['Tong','Wan','Suo']:\n",
    "            for tileno in range(1,10):\n",
    "                for copyno in range(1,5):\n",
    "                    tile = Tile(tileno, suit, copyno)\n",
    "                    self.deck.append(tile)\n",
    "        # Assign number 0 for the wind and dragon tiles as placeholder\n",
    "        for suit in ['Dong','Nan','Xi','Bei','Bai_Ban','Fa_Cai','Hong_Zhong']:\n",
    "            for copyno in range(1,5):\n",
    "                tile = Tile(0, suit, copyno)\n",
    "                self.deck.append(tile)\n",
    "    \n",
    "    def __len__ (self):\n",
    "        return len(self.deck)\n",
    "    \n",
    "    # Deal a tile from index 0 to the player and removes it from Draw_Pile.deck\n",
    "    def deal(self):\n",
    "        if len(self.deck) == 0:\n",
    "            return None\n",
    "        else:\n",
    "            return self.deck.pop(0)\n",
    "\n",
    "class Discard_Pile(object):\n",
    "    def __init__(self):\n",
    "        self.deck = []        \n",
    "        \n",
    "class Player(object):\n",
    "    def __init__(self):\n",
    "        self.hand = []\n",
    "        # The fourth piece of a kong is not considered one of the 13 tiles a player must always have in their hand.\n",
    "        # For every melded kong, hand size increases by 1, so we need to track this\n",
    "        self.melded_kong_count = 0\n",
    "        self.melded_hand = []\n",
    "        \n",
    "    def discard(self,tile):\n",
    "        if len(self.hand) == 0:\n",
    "            return None\n",
    "        else:\n",
    "            return self.hand.pop(tile)\n",
    "\n",
    "def score_hand(hand, test_mode = 0):\n",
    "    '''score_hand Function takes a hand matrix (structure speified in project description)\n",
    "        And will return a list of (bool, score):\n",
    "        If input is a valid hand: (True, multipler (int))\n",
    "        If input is NOT a valid hand: (False, 0)\n",
    "        Scoring rules ref: https://en.wikipedia.org/wiki/Hong_Kong_mahjong_scoring_rules\n",
    "        RMK: no Kong and any wining hand with Kong is NOT considered\n",
    "    ''' \n",
    "    sum_of_hand = np.sum(hand, axis = 1)%10\n",
    "    sum_of_hand_copy = sum_of_hand.copy()\n",
    "    wining = (None,0) # will return a list of (bool, score)\n",
    "    \n",
    "    # Check Invalid hand\n",
    "    if any(sum_of_hand > 4) or any(sum_of_hand < 0) or np.sum(sum_of_hand) != 14 or np.any(hand > 10):\n",
    "        print(hand)\n",
    "        raise Exception(\"score_hand funciton error: copy_of_hand out of range\")\n",
    "    \n",
    "    # Thirteen Orphans\n",
    "    if np.all(sum_of_hand[[0,8,9,17,18,26]] >= 1) and np.all(sum_of_hand[27:] >= 1):\n",
    "        if test_mode: print('Wining Hand: Thirteen Orphans (13)')\n",
    "        return (True, 13)\n",
    "    \n",
    "    # Nine Gates\n",
    "    if (sum_of_hand_copy[9] >= 3 and sum_of_hand_copy[17] >= 3 and np.all(sum_of_hand_copy[10:17] >= 1)) or (sum_of_hand_copy[0] >= 3 and sum_of_hand_copy[8] >= 3 and np.all(sum_of_hand_copy[1:8] >= 1)) or (sum_of_hand_copy[18] >= 3 and sum_of_hand_copy[26] >= 3 and np.all(sum_of_hand_copy[19:26] >= 1)):\n",
    "        if test_mode:print('wining Hand: Nine Gates (10)')\n",
    "        return (True, 10)\n",
    "    \n",
    "    # Find singular Honor tiles\n",
    "    if any(sum_of_hand[27:] == 1) or any(sum_of_hand[27:] == 4):\n",
    "        if test_mode: print('singular or quad honor tiles')\n",
    "        return (0,0)\n",
    "    \n",
    "    # Find Pong count and pairs\n",
    "    pong_count = np.zeros([5,1], dtype = int)\n",
    "    chow_count = np.zeros([5,1], dtype = int)\n",
    "    pair_flag = np.zeros([5,1], dtype = int)\n",
    "    idx_triplets = np.argwhere(sum_of_hand == 3)[:,0]\n",
    "    idx_pairs = np.argwhere(sum_of_hand == 2)[:,0]\n",
    "    idx_quad = np.argwhere(sum_of_hand == 4)[:,0]\n",
    "    for idx in idx_triplets:\n",
    "        if idx >=0 and idx <= 8:\n",
    "            pong_count[0] += 1\n",
    "        elif idx >= 9 and idx <= 17:\n",
    "            pong_count[1] += 1\n",
    "        elif idx >= 18 and idx <= 26:\n",
    "            pong_count[2] += 1\n",
    "        elif idx >= 27 and idx <= 30:\n",
    "            pong_count[3] += 1\n",
    "        elif idx >= 31 and idx <= 33:\n",
    "            pong_count[4] += 1\n",
    "        sum_of_hand[idx] -= 3\n",
    "        \n",
    "    if not np.all(pair_flag, axis = 0):\n",
    "        for idx in np.hstack((np.flip(idx_pairs), idx_quad)):\n",
    "            if idx >= 31 and idx <= 33:\n",
    "                pair_flag[4] += 1\n",
    "            elif idx >= 27 and idx <= 30:\n",
    "                    pair_flag[3] += 1\n",
    "            elif idx >=0 and idx <= 8:\n",
    "                pair_flag[0] += 1\n",
    "            elif idx >= 9 and idx <= 17:\n",
    "                pair_flag[1] += 1\n",
    "            elif idx >= 18 and idx <= 26:\n",
    "                pair_flag[2] += 1\n",
    "            sum_of_hand[idx] -= 2\n",
    "            break\n",
    "    for idx in idx_quad:\n",
    "        if idx >=0 and idx <= 8:\n",
    "            pong_count[0] += 1\n",
    "        elif idx >= 9 and idx <= 17:\n",
    "            pong_count[1] += 1\n",
    "        elif idx >= 18 and idx <= 26:\n",
    "            pong_count[2] += 1\n",
    "        elif idx >= 27 and idx <= 30:\n",
    "            pong_count[3] += 1\n",
    "        elif idx >= 31 and idx <= 33:\n",
    "            pong_count[4] += 1\n",
    "        sum_of_hand[idx] -= 3\n",
    "    # Test Purpose\n",
    "    if test_mode: print('Pong Count:{}, Pair Suit:{}'.format(np.sum(pong_count), np.sum(pair_flag)))\n",
    "                 \n",
    "    for suit, start, stop in zip([0,1,2], [0,9,18],[9,18,27]):\n",
    "\n",
    "        sum_of_hand_slice = sum_of_hand[start:stop]\n",
    "        singular_tileno = np.argwhere(sum_of_hand_slice >= 1)[:,0]\n",
    "        for i in singular_tileno:\n",
    "            while sum_of_hand[start + i] > 0:\n",
    "                if np.all(sum_of_hand[start:stop] == 0):\n",
    "                    break\n",
    "                if sum_of_hand[start + i] != 0:\n",
    "                    if i == 0:\n",
    "                        if (sum_of_hand_slice[1] == 0 or sum_of_hand_slice[2] == 0):\n",
    "                            if test_mode: print('Singluar tiles at 1 Suit:{}'.format(suit))\n",
    "                            return (0,0)\n",
    "                    elif i == 1:\n",
    "                        if (sum_of_hand_slice[0] == 0 or sum_of_hand_slice[2] == 0) and (sum_of_hand_slice[2] == 0 or sum_of_hand_slice[3] == 0):\n",
    "                            if test_mode: print('Singluar tiles at 2 Suit:{}'.format(suit))\n",
    "                            return (0,0)\n",
    "                    elif i == 8 :\n",
    "                        if (sum_of_hand_slice[-2] == 0 or sum_of_hand_slice[-3] == 0):\n",
    "                            if test_mode: print('Singluar tiles at 9 Suit:{}'.format(suit))\n",
    "                            return (0,0)\n",
    "                    elif i == 7:\n",
    "                        if ((sum_of_hand_slice[-1] == 0 or sum_of_hand_slice[-3] == 0) and (sum_of_hand_slice[-3] == 0 or sum_of_hand_slice[-4] == 0)):\n",
    "                            if test_mode: print('Singluar tiles at 8 Suit:{}'.format(suit))\n",
    "                            return (0,0)\n",
    "                    else: \n",
    "                        if(sum_of_hand_slice[i-1] == 0 or sum_of_hand_slice[i+1] == 0) and (sum_of_hand_slice[i-1] == 0 or sum_of_hand_slice[i-2] == 0) and (sum_of_hand_slice[i+1] == 0 or sum_of_hand_slice[i+2] == 0):\n",
    "                            if test_mode: print('Singluar tiles at {} Suit{}'.format(i, suit))\n",
    "                            return (0,0)\n",
    "                    # Form chow meld\n",
    "                    if i == 8:\n",
    "                        sum_of_hand[start+i-2:start+i+1] -= 1\n",
    "                        chow_count[suit] += 1\n",
    "                    else:           \n",
    "                        sum_of_hand[start+i:start+i+3] -= 1\n",
    "                        chow_count[suit] += 1\n",
    "\n",
    "                    \n",
    "    sum_of_hand_count = np.bincount(sum_of_hand, minlength = 5)\n",
    "            \n",
    "    # Find 2 or more pairs\n",
    "    if wining[0] is None and sum_of_hand_count[2] > 0:\n",
    "        if test_mode: print('Existing remaining pairs')\n",
    "        return (0,0)\n",
    "    if np.sum((pong_count + chow_count), axis = 0) != 4 and not np.any(pair_flag == 1):\n",
    "        if test_mode: print('Non a hand')\n",
    "        return (0,0)\n",
    "            \n",
    "#     # Seven Pairs (NON-Traditional)\n",
    "#     if sum_of_hand_count[2] == 7:\n",
    "#         if test: print('Wining Hand: Seven Pairs (4)')\n",
    "#         return (True, 4)\n",
    "    \n",
    "    # Extra Points of Triplets of Dragon Tiles\n",
    "    extra_points = pong_count[4,0].copy()\n",
    "    if test_mode: print('Triplets of Dragon Tiles: {}'.format(extra_points))\n",
    "    # All in Triplets\n",
    "    if np.sum(pong_count, axis = 0) == 4:\n",
    "        extra_points += 3\n",
    "        if test_mode: print('All In Triplets: {}'.format(extra_points))\n",
    "\n",
    "    # Great Winds\n",
    "    if pong_count[3] == 4 and np.any(pair_flag == 1):\n",
    "            # All Honor Tiles\n",
    "            if np.argwhere(pair_flag == 1)[:,0] > 2:\n",
    "                if test_mode:print('Wining Hand: Great Winds + All Honor Tiles (23)')\n",
    "                extra_points_allhonor = 10\n",
    "            else:\n",
    "                extra_points_allhonor = 0\n",
    "                if test_mode: print('Wining Hand: Great Winds(13)')\n",
    "            return (True, 13+ extra_points_allhonor)           \n",
    "    \n",
    "    \n",
    "    # Orphans\n",
    "    orphan_bincount = np.bincount(sum_of_hand_copy[[0,8,9,17,18,26]], minlength = 4)\n",
    "    if orphan_bincount[3] == 4 and orphan_bincount[2] == 1:\n",
    "        if test_mode:print('Wining Hand: Orpahns')\n",
    "        return (True,10)\n",
    "    \n",
    "    # Small Wind\n",
    "    if pong_count[3] == 3 and pair_flag[3] == 1:\n",
    "        if pong_count[4] == 1:\n",
    "            if test_mode:print('Wining Hand: All Honor Tiles + Small Wind (16)')\n",
    "            return (True, 16)\n",
    "        elif any(sum_of_hand_copy[0:27] == 3):\n",
    "            if test_mode:print('Wining Hand: All in Triplets + Small Wind (9)')\n",
    "            return (True, 9)\n",
    "        elif np.all(sum_of_hand_copy[31:] == 0):\n",
    "            if np.all(sum_of_hand_copy[0:18] == 0) and np.all(np.diff(np.argwhere(sum_of_hand_copy[18:27] == 1)[:,0]) == 1):\n",
    "                if test_mode:print('Wining Hand: Mixed One Suit (Suo) + Small Wind (9)')\n",
    "                return(True, 9)\n",
    "            elif np.all(sum_of_hand_copy[9:27] == 0) and np.all(np.diff(np.argwhere(sum_of_hand_copy[0:9] == 1)[:,0]) == 1):\n",
    "                if test_mode:print('Wining Hand: Mixed One Suit(Tong) + Small Wind (9)')\n",
    "                return(True, 9)\n",
    "            elif np.all(sum_of_hand_copy[0:9] == 0) and np.all(sum_of_hand_copy[18:27] == 0) and np.all(np.diff(np.argwhere(sum_of_hand_copy[9:18] == 1)[:,0]) == 1):\n",
    "                if test_mode:print('Wining Hand: Mixed One Suit(Wan) + Small Wind (9)')\n",
    "                return(True, 9)     \n",
    "    \n",
    "    # Great Dragons\n",
    "    if pong_count[4] == 3:\n",
    "        if pong_count[3] == 1 and pair_flag[3] == 1:\n",
    "            if test_mode:print('Wining Hand: Great Dragons + All Honors (18)')\n",
    "            return (True, 18)\n",
    "        elif np.any(np.sum((pong_count[0:4] + chow_count[0:4] + pair_flag[0:4]), axis = 1) == 2):\n",
    "            if test_mode:print('Wining Hand: Mixed One Suit + Great Dragons (11)')\n",
    "            return (True, 11 + extra_points)\n",
    "        elif np.sum((pong_count[0:4] + chow_count[0:4]), axis = 0) == 1 and np.any(pair_flag == 1):\n",
    "            if test_mode:print('Wining Hand:Great Dragons (8)')\n",
    "            return (True, 8 + extra_points)\n",
    "    \n",
    "    # Small Dragons\n",
    "    if pong_count[4] == 2 and pair_flag[4] == 1:\n",
    "        if pong_count[3] == 2:\n",
    "            if test_mode:print('Wining Hand: All Honor Tiles + Small Dragons (15)')\n",
    "            return(True, 15)\n",
    "        elif np.any(pong_count[0:3] == 2) or np.any(chow_count[0:3] == 2) or np.any((pong_count[0:3] + chow_count[0:3]) == 2):\n",
    "            if test_mode:print('Wining Hand: Mixed One Suit + Small Dragons (8)')\n",
    "            return (True, 8 + extra_points)\n",
    "        elif np.sum(pong_count[0:3] + chow_count[0:3], axis = 0) == 2:\n",
    "            if test_mode:print('Wining Hand: Small Dragons (5)')\n",
    "            return (True, 5 + extra_points)\n",
    "        \n",
    "    # All in one suit\n",
    "    if np.any((pong_count[0:3] + chow_count[0:3] + pair_flag[0:3]) == 5):\n",
    "        if test_mode: print('All In One Suit: {}'.format(7))\n",
    "        return (True, 7 + extra_points)\n",
    "                \n",
    "    # All Honor Tiles\n",
    "    if np.sum(pong_count[3:], axis = 0) == 4 and np.argwhere(pair_flag[3:] == 1)[:,0] > 2:\n",
    "        if test_mode:print('Wining Hand: All Honor Tiles {}'.format(10+extra_points))\n",
    "        return (True, 10+extra_points)\n",
    "    \n",
    "    # Mixed One Suit\n",
    "    honor_count = np.sum((pong_count[3:] + pair_flag[3:]), axis = 0)\n",
    "    if np.any((np.sum((pong_count[0:3] + chow_count[0:3] + pair_flag[0:3]), axis=1) + honor_count) == 5):\n",
    "        if test_mode:print('Wining Hand: Mixed One Suit {}'.format(3+extra_points))\n",
    "        return (True, 3+extra_points)\n",
    "    # Common Hand\n",
    "    if np.sum(chow_count, axis = 0) == 4 and np.any(pair_flag == 1):\n",
    "        if test_mode: print('Wining Hand:Common hand')\n",
    "        return (True, 1+extra_points)\n",
    "    \n",
    "    if np.sum([chow_count + pong_count, axis = 0) == 4 and np.any(pair_flag == 1):\n",
    "        if test_mode: print('Wining Hand:Common hand')\n",
    "        return (True, 0+extra_points)\n",
    "    \n",
    "    return (0, 0)"
   ]
  },
  {
   "cell_type": "markdown",
   "id": "d8268139",
   "metadata": {},
   "source": [
    "### Mahjong State Dictionary"
   ]
  },
  {
   "cell_type": "code",
   "execution_count": 5,
   "id": "2d38cb20",
   "metadata": {},
   "outputs": [],
   "source": [
    "mahjong_dict = {0:'1 Tong',1:'2 Tong',2:'3 Tong',3:'4 Tong',4:'5 Tong',5:'6 Tong',6:'7 Tong',7:'8 Tong',8:'9 Tong',\n",
    "              9:'1 Wan',10:'2 Wan',11:'3 Wan',12:'4 Wan',13:'5 Wan',14:'6 Wan',15:'7 Wan',16:'8 Wan',17:'9 Wan',\n",
    "              18:'1 Suo',19:'2 Suo',20:'3 Suo',21:'4 Suo',22:'5 Suo',23:'6 Suo',24:'7 Suo',25:'8 Suo',26:'9 Suo',\n",
    "              27:'Dong',28:'Nan',29:'Xi',30:'Bei',\n",
    "              31:'Bai_Ban',32:'Fa_Cai',33:'Hong_Zhong'}"
   ]
  },
  {
   "cell_type": "code",
   "execution_count": 42,
   "id": "c3b3a7cc",
   "metadata": {},
   "outputs": [
    {
     "data": {
      "text/plain": [
       "array([[1., 1., 0., 0.],\n",
       "       [0., 0., 0., 0.],\n",
       "       [0., 0., 0., 0.],\n",
       "       [0., 1., 0., 0.],\n",
       "       [0., 0., 0., 0.],\n",
       "       [0., 0., 0., 0.],\n",
       "       [0., 0., 1., 0.],\n",
       "       [0., 0., 0., 0.],\n",
       "       [0., 0., 0., 0.],\n",
       "       [0., 0., 1., 0.],\n",
       "       [0., 0., 0., 0.],\n",
       "       [0., 0., 0., 0.],\n",
       "       [0., 0., 0., 0.],\n",
       "       [0., 0., 1., 0.],\n",
       "       [0., 0., 1., 0.],\n",
       "       [0., 1., 0., 0.],\n",
       "       [0., 0., 0., 0.],\n",
       "       [0., 0., 0., 0.],\n",
       "       [0., 0., 1., 0.],\n",
       "       [0., 0., 0., 0.],\n",
       "       [0., 0., 0., 1.],\n",
       "       [0., 0., 0., 0.],\n",
       "       [0., 0., 0., 0.],\n",
       "       [0., 0., 0., 0.],\n",
       "       [0., 0., 1., 0.],\n",
       "       [0., 0., 0., 1.],\n",
       "       [0., 0., 0., 0.],\n",
       "       [0., 0., 0., 0.],\n",
       "       [0., 0., 0., 0.],\n",
       "       [0., 0., 0., 0.],\n",
       "       [0., 0., 0., 1.],\n",
       "       [0., 0., 0., 0.],\n",
       "       [0., 0., 0., 1.]])"
      ]
     },
     "execution_count": 42,
     "metadata": {},
     "output_type": "execute_result"
    }
   ],
   "source": [
    "random_seed = random.choices(np.arange(33*4),k=14)\n",
    "state = np.zeros([33,4])\n",
    "for i in random_seed:\n",
    "    # int(i/4) gives tile no., i%4 gives copy no.\n",
    "    state[int(i/4),i%4]=1\n",
    "state"
   ]
  },
  {
   "cell_type": "markdown",
   "id": "526fa7c2",
   "metadata": {},
   "source": [
    "### Functions to View State"
   ]
  },
  {
   "cell_type": "code",
   "execution_count": null,
   "id": "9aad3c9e",
   "metadata": {},
   "outputs": [],
   "source": [
    "# Use this function to output the tiles to see \n",
    "def display_tiles(pile):\n",
    "    print('tile count =',len(pile))\n",
    "    for tile in pile:\n",
    "        print(tile.tileno, tile.suit)"
   ]
  },
  {
   "cell_type": "markdown",
   "id": "a5462ccd",
   "metadata": {},
   "source": [
    "### Functions for Decision Making"
   ]
  },
  {
   "cell_type": "code",
   "execution_count": 8,
   "id": "58158457",
   "metadata": {},
   "outputs": [],
   "source": [
    "def decide(player_hand, drawn_tile, discard_pile):\n",
    "    #### The decision function to eventually go here\n",
    "    if winning_hand == 1:\n",
    "        return score\n",
    "    elif kong == 1:\n",
    "        kong_count = kong_count + 1\n",
    "        return kong_count\n",
    "    else:\n",
    "        return tile_to_discard\n",
    "    \n",
    "def value_function():\n",
    "    #### If our value function is to differ from the official scoring rules\n",
    "    value = score_hand()\n",
    "    return value"
   ]
  },
  {
   "cell_type": "code",
   "execution_count": 4,
   "id": "18b47875",
   "metadata": {},
   "outputs": [],
   "source": [
    "a = np.matrix([[1],[1],[3],[2],[2],[4]])\n"
   ]
  },
  {
   "cell_type": "code",
   "execution_count": 5,
   "id": "632caf78",
   "metadata": {},
   "outputs": [
    {
     "data": {
      "text/plain": [
       "1"
      ]
     },
     "execution_count": 5,
     "metadata": {},
     "output_type": "execute_result"
    }
   ],
   "source": [
    "np.argwhere(a == 1)[1,0]"
   ]
  },
  {
   "cell_type": "code",
   "execution_count": 6,
   "id": "cbc5bf8b",
   "metadata": {},
   "outputs": [
    {
     "data": {
      "text/plain": [
       "matrix([[3]])"
      ]
     },
     "execution_count": 6,
     "metadata": {},
     "output_type": "execute_result"
    }
   ],
   "source": [
    "a[2]"
   ]
  },
  {
   "cell_type": "code",
   "execution_count": 15,
   "id": "59bab71b",
   "metadata": {},
   "outputs": [
    {
     "ename": "TypeError",
     "evalue": "all() takes exactly one argument (2 given)",
     "output_type": "error",
     "traceback": [
      "\u001b[1;31m---------------------------------------------------------------------------\u001b[0m",
      "\u001b[1;31mTypeError\u001b[0m                                 Traceback (most recent call last)",
      "\u001b[1;32m~\\AppData\\Local\\Temp\\ipykernel_17844\\973773219.py\u001b[0m in \u001b[0;36m<module>\u001b[1;34m\u001b[0m\n\u001b[1;32m----> 1\u001b[1;33m \u001b[0mall\u001b[0m\u001b[1;33m(\u001b[0m\u001b[1;36m0\u001b[0m \u001b[1;32min\u001b[0m \u001b[0ma\u001b[0m\u001b[1;33m,\u001b[0m \u001b[1;36m5\u001b[0m \u001b[1;32min\u001b[0m \u001b[0ma\u001b[0m\u001b[1;33m)\u001b[0m\u001b[1;33m\u001b[0m\u001b[1;33m\u001b[0m\u001b[0m\n\u001b[0m",
      "\u001b[1;31mTypeError\u001b[0m: all() takes exactly one argument (2 given)"
     ]
    }
   ],
   "source": [
    "all(0 in a, 5 in a)"
   ]
  },
  {
   "cell_type": "code",
   "execution_count": 8,
   "id": "40e52803",
   "metadata": {},
   "outputs": [],
   "source": [
    "kk = []\n",
    "for i in kk:\n",
    "    print('test')"
   ]
  },
  {
   "cell_type": "code",
   "execution_count": 14,
   "id": "178c269a",
   "metadata": {},
   "outputs": [
    {
     "name": "stdout",
     "output_type": "stream",
     "text": [
      "9\n",
      "18\n",
      "27\n"
     ]
    }
   ],
   "source": [
    "for j,k in zip([0,9,18], [9,18,27]):\n",
    "    print(k)"
   ]
  },
  {
   "cell_type": "code",
   "execution_count": 3,
   "id": "5aa7f2e4",
   "metadata": {},
   "outputs": [],
   "source": [
    "wining = (None,0.0)"
   ]
  },
  {
   "cell_type": "code",
   "execution_count": 7,
   "id": "388cde88",
   "metadata": {},
   "outputs": [
    {
     "data": {
      "text/plain": [
       "NoneType"
      ]
     },
     "execution_count": 7,
     "metadata": {},
     "output_type": "execute_result"
    }
   ],
   "source": [
    "type(wining[0]) \n"
   ]
  },
  {
   "cell_type": "code",
   "execution_count": 16,
   "id": "e8eabfe5",
   "metadata": {},
   "outputs": [],
   "source": [
    "a = np.arange(5)"
   ]
  },
  {
   "cell_type": "code",
   "execution_count": 28,
   "id": "24077d27",
   "metadata": {},
   "outputs": [],
   "source": [
    "a = np.ones([4,6])\n",
    "b = np.sum(a, axis = 1)\n"
   ]
  },
  {
   "cell_type": "code",
   "execution_count": 23,
   "id": "614110ae",
   "metadata": {},
   "outputs": [
    {
     "data": {
      "text/plain": [
       "False"
      ]
     },
     "execution_count": 23,
     "metadata": {},
     "output_type": "execute_result"
    }
   ],
   "source": [
    "all(np.diff(a) == 0)"
   ]
  },
  {
   "cell_type": "code",
   "execution_count": 27,
   "id": "f23b1f27",
   "metadata": {},
   "outputs": [],
   "source": [
    "a = np.matrix([[0], [1],[1],[1],[0],[0]])"
   ]
  },
  {
   "cell_type": "code",
   "execution_count": 23,
   "id": "f5daf084",
   "metadata": {},
   "outputs": [
    {
     "data": {
      "text/plain": [
       "array([1, 2, 3, 1, 2, 3], dtype=int64)"
      ]
     },
     "execution_count": 23,
     "metadata": {},
     "output_type": "execute_result"
    }
   ],
   "source": [
    "np.hstack((np.argwhere(a == 1)[:,0],np.argwhere(a == 1)[:,0]))"
   ]
  },
  {
   "cell_type": "code",
   "execution_count": 29,
   "id": "935b55df",
   "metadata": {},
   "outputs": [],
   "source": [
    "a[2:4] -=2"
   ]
  },
  {
   "cell_type": "code",
   "execution_count": 30,
   "id": "355656f9",
   "metadata": {},
   "outputs": [
    {
     "data": {
      "text/plain": [
       "matrix([[ 0],\n",
       "        [ 1],\n",
       "        [-1],\n",
       "        [-1],\n",
       "        [ 0],\n",
       "        [ 0]])"
      ]
     },
     "execution_count": 30,
     "metadata": {},
     "output_type": "execute_result"
    }
   ],
   "source": [
    "a"
   ]
  },
  {
   "cell_type": "code",
   "execution_count": 24,
   "id": "462e62fc",
   "metadata": {},
   "outputs": [],
   "source": [
    "a = [1,4]\n"
   ]
  },
  {
   "cell_type": "code",
   "execution_count": 26,
   "id": "15df2f5a",
   "metadata": {},
   "outputs": [
    {
     "data": {
      "text/plain": [
       "1"
      ]
     },
     "execution_count": 26,
     "metadata": {},
     "output_type": "execute_result"
    }
   ],
   "source": [
    "a.index(4)"
   ]
  },
  {
   "cell_type": "code",
   "execution_count": 13,
   "id": "63ea1b9a",
   "metadata": {},
   "outputs": [],
   "source": [
    "a = np.matrix([0, 0])"
   ]
  },
  {
   "cell_type": "code",
   "execution_count": 14,
   "id": "8fc07ae7",
   "metadata": {},
   "outputs": [
    {
     "name": "stdout",
     "output_type": "stream",
     "text": [
      "yo\n"
     ]
    }
   ],
   "source": [
    "if not np.all(a):\n",
    "    print('yo')"
   ]
  },
  {
   "cell_type": "code",
   "execution_count": null,
   "id": "bcadcfe2",
   "metadata": {},
   "outputs": [],
   "source": []
  }
 ],
 "metadata": {
  "kernelspec": {
   "display_name": "Python 3 (ipykernel)",
   "language": "python",
   "name": "python3"
  },
  "language_info": {
   "codemirror_mode": {
    "name": "ipython",
    "version": 3
   },
   "file_extension": ".py",
   "mimetype": "text/x-python",
   "name": "python",
   "nbconvert_exporter": "python",
   "pygments_lexer": "ipython3",
   "version": "3.9.16"
  }
 },
 "nbformat": 4,
 "nbformat_minor": 5
}
