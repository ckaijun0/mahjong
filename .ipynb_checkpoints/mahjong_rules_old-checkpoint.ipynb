{
 "cells": [
  {
   "cell_type": "code",
   "execution_count": 6,
   "id": "28b527ef",
   "metadata": {},
   "outputs": [],
   "source": [
    "import numpy as np\n",
    "import random"
   ]
  },
  {
   "cell_type": "markdown",
   "id": "9b52a382",
   "metadata": {},
   "source": [
    "### Functions for Mahjong Rules"
   ]
  },
  {
   "cell_type": "code",
   "execution_count": 14,
   "id": "7eb8aa7d",
   "metadata": {},
   "outputs": [],
   "source": [
    "class Tile:\n",
    "    def __init__(self, tileno, suit, copyno):\n",
    "        self.tileno = tileno\n",
    "        self.suit = suit\n",
    "        self.copyno = copyno # To ensure that each tile is unique, assign a copy number to the tile (just in case)\n",
    "\n",
    "class Draw_Pile(object):\n",
    "    def __init__(self):\n",
    "        self.deck = []\n",
    "        for suit in ['Tong','Wan','Suo']:\n",
    "            for tileno in range(1,10):\n",
    "                for copyno in range(1,5):\n",
    "                    tile = Tile(tileno, suit, copyno)\n",
    "                    self.deck.append(tile)\n",
    "        # Assign number 0 for the wind and dragon tiles as placeholder\n",
    "        for suit in ['Dong','Nan','Xi','Bei','Bai_Ban','Fa_Cai','Hong_Zhong']:\n",
    "            for copyno in range(1,5):\n",
    "                tile = Tile(0, suit, copyno)\n",
    "                self.deck.append(tile)\n",
    "    \n",
    "    def __len__ (self):\n",
    "        return len(self.deck)\n",
    "    \n",
    "    # Deal a tile from index 0 to the player and removes it from Draw_Pile.deck\n",
    "    def deal(self):\n",
    "        if len(self.deck) == 0:\n",
    "            return None\n",
    "        else:\n",
    "            return self.deck.pop(0)\n",
    "\n",
    "class Discard_Pile(object):\n",
    "    def __init__(self):\n",
    "        self.deck = []        \n",
    "        \n",
    "class Player(object):\n",
    "    def __init__(self):\n",
    "        self.hand = []\n",
    "        # The fourth piece of a kong is not considered one of the 13 tiles a player must always have in their hand.\n",
    "        # For every melded kong, hand size increases by 1, so we need to track this\n",
    "        self.melded_kong_count = 0\n",
    "        self.melded_hand = []\n",
    "        \n",
    "    def discard(self,tile):\n",
    "        if len(self.hand) == 0:\n",
    "            return None\n",
    "        else:\n",
    "            return self.hand.pop(tile)\n",
    "\n",
    "def score_hand():\n",
    "    #### Mahjong official rules scoring function to go here\n",
    "    return score"
   ]
  },
  {
   "cell_type": "markdown",
   "id": "526fa7c2",
   "metadata": {},
   "source": [
    "### Functions to View State"
   ]
  },
  {
   "cell_type": "code",
   "execution_count": null,
   "id": "9aad3c9e",
   "metadata": {},
   "outputs": [],
   "source": [
    "# Use this function to output the tiles to see \n",
    "def display_tiles(pile):\n",
    "    print('tile count =',len(pile))\n",
    "    for tile in pile:\n",
    "        print(tile.tileno, tile.suit)"
   ]
  },
  {
   "cell_type": "markdown",
   "id": "a5462ccd",
   "metadata": {},
   "source": [
    "### Functions for Decision Making"
   ]
  },
  {
   "cell_type": "code",
   "execution_count": 8,
   "id": "58158457",
   "metadata": {},
   "outputs": [],
   "source": [
    "def decide(player_hand, drawn_tile, discard_pile):\n",
    "    #### The decision function to eventually go here\n",
    "    if winning_hand == 1:\n",
    "        return score\n",
    "    elif kong == 1:\n",
    "        kong_count = kong_count + 1\n",
    "        return kong_count\n",
    "    else:\n",
    "        return tile_to_discard\n",
    "    \n",
    "def value_function():\n",
    "    #### If our value function is to differ from the official scoring rules\n",
    "    value = score_hand()\n",
    "    return value"
   ]
  },
  {
   "cell_type": "code",
   "execution_count": null,
   "id": "18b47875",
   "metadata": {},
   "outputs": [],
   "source": []
  }
 ],
 "metadata": {
  "kernelspec": {
   "display_name": "Python 3 (ipykernel)",
   "language": "python",
   "name": "python3"
  },
  "language_info": {
   "codemirror_mode": {
    "name": "ipython",
    "version": 3
   },
   "file_extension": ".py",
   "mimetype": "text/x-python",
   "name": "python",
   "nbconvert_exporter": "python",
   "pygments_lexer": "ipython3",
   "version": "3.9.13"
  }
 },
 "nbformat": 4,
 "nbformat_minor": 5
}
