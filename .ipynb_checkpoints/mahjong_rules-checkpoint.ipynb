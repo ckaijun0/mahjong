{
 "cells": [
  {
   "cell_type": "code",
   "execution_count": 3,
   "id": "28b527ef",
   "metadata": {},
   "outputs": [],
   "source": [
    "import numpy as np\n",
    "import random"
   ]
  },
  {
   "cell_type": "markdown",
   "id": "9b52a382",
   "metadata": {},
   "source": [
    "### Functions for Mahjong Rules"
   ]
  },
  {
   "cell_type": "code",
   "execution_count": 14,
   "id": "7eb8aa7d",
   "metadata": {},
   "outputs": [],
   "source": [
    "def initialize_game_state():\n",
    "    state = np.zeros(3*9+7)\n",
    "    return state\n",
    "\n",
    "class Tile:\n",
    "    def __init__(self, tileno, suit, copyno):\n",
    "        self.tileno = tileno\n",
    "        self.suit = suit\n",
    "        self.copyno = copyno # To ensure that each tile is unique, assign a copy number to the tile (just in case)\n",
    "\n",
    "class Draw_Pile(object):\n",
    "    def __init__(self):\n",
    "        self.deck = []\n",
    "        for suit in ['Tong','Wan','Suo']:\n",
    "            for tileno in range(1,10):\n",
    "                for copyno in range(1,5):\n",
    "                    tile = Tile(tileno, suit, copyno)\n",
    "                    self.deck.append(tile)\n",
    "        # Assign number 0 for the wind and dragon tiles as placeholder\n",
    "        for suit in ['Dong','Nan','Xi','Bei','Bai_Ban','Fa_Cai','Hong_Zhong']:\n",
    "            for copyno in range(1,5):\n",
    "                tile = Tile(0, suit, copyno)\n",
    "                self.deck.append(tile)\n",
    "    \n",
    "    def __len__ (self):\n",
    "        return len(self.deck)\n",
    "    \n",
    "    # Deal a tile from index 0 to the player and removes it from Draw_Pile.deck\n",
    "    def deal(self):\n",
    "        if len(self.deck) == 0:\n",
    "            return None\n",
    "        else:\n",
    "            return self.deck.pop(0)\n",
    "\n",
    "class Discard_Pile(object):\n",
    "    def __init__(self):\n",
    "        self.deck = []        \n",
    "        \n",
    "class Player(object):\n",
    "    def __init__(self):\n",
    "        self.hand = []\n",
    "        # The fourth piece of a kong is not considered one of the 13 tiles a player must always have in their hand.\n",
    "        # For every melded kong, hand size increases by 1, so we need to track this\n",
    "        self.melded_kong_count = 0\n",
    "        self.melded_hand = []\n",
    "        \n",
    "    def discard(self,tile):\n",
    "        if len(self.hand) == 0:\n",
    "            return None\n",
    "        else:\n",
    "            return self.hand.pop(tile)\n",
    "\n",
    "def score_hand(hand, test_mode = 0):\n",
    "    #### Mahjong official rules scoring function to go here\n",
    "    sum_of_hand = np.sum(hand, axis = 1)%10\n",
    "    # Find singular tiles\n",
    "    for start, stop in zip([0,9,18], [9,18,27])\n",
    "        sum_of_hand_slice = sum_of_hand[start:stop]\n",
    "        singular_tileno = argwhere(sum_of_hand_slice == 1)\n",
    "        for i in singular_tileno:\n",
    "            if i == 0 and (sum_of_hand_slice[1] == 0 or sum_of_hand_slice[2] == 0:\n",
    "                if test: print('Singluar tiles at 1')\n",
    "                return 0\n",
    "            elif i == 8 and (sum_of_hand_slice[-2] == 0 or sum_of_hand_slice[-3] == 0):\n",
    "                if test: print('Singluar tiles at 9')\n",
    "                return 0\n",
    "            elif sum_of_hand_slice[i-1] == 0 and sum_of_hand_slice[i+1] == 0 or  \n",
    "                \n",
    "    \n",
    "    \n",
    "    if any(copy_of_hands > 4):\n",
    "        print(hand)\n",
    "        raise Exception(\"score_hand funciton error: copy_of_hand out of range\")\n",
    "    # Thirteen Orphans\n",
    "    if np.bincount(hand[0,:])[1] == 1 and np.bincount(hand[8,:])[1] == 1 and np.bincount(hand[9,:])[1] == 1 and np.bincount(hand[17,:])[1] == 1 and np.bincount(hand[18,:])[1] == 1 and np.bincount(hand[26,:])[1] == 1:\n",
    "        if any(np.sum(hand[27:,:],axis = 1)%10 == 3):\n",
    "            break\n",
    "        elif np.bincount(np.sum(hand[25:,:],axis = 1)%10)[1] == 6:\n",
    "            if test_mode: print('Wining Hand: Thirteen Orphans (13)')\n",
    "            return 13\n",
    "        \n",
    "    # Great Winds\n",
    "    if all(np.sum(hand[27:31,:], axis = 1)%10 == 3*np.ones([4])) and any(np.sum(hand, axis = 1)%10 == 2):\n",
    "        if test_mode: print('Wining Hand:Great Winds (13)')\n",
    "        return 13\n",
    "    \n",
    "    # All Honor Tiles\n",
    "    if np.sum(hand[0:27], axis = 1)%10 == np.zeros([27]) and np.bincount(np.sum(hand[27:], axis = 1))[3] == 4 and np.bincount(np.sum(hand[27:], axis = 1))[2] == 1:\n",
    "        if np.bincount(np.sum(hand[27:], axis = 1))[3] >= 0:\n",
    "            extra_point = np.bincount(np.sum(hand[27:], axis = 1))[3]\n",
    "        else:\n",
    "            extra_point = 0\n",
    "        \n",
    "        if test_mode:print('Wining Hand: All Honor Tiles {}'.format(10+extra_point))\n",
    "        return 10+extra_point\n",
    "    \n",
    "    # Nine Gates\n",
    "    if sum(hand[9,:])%10 >= 3 and sum(hand[17,:])%10 >= 3 and np.sum(hand[10:17,:], axis = 1)%10 >=1:\n",
    "        if test_mode:print('wining Hand: Nine Gates (10)')\n",
    "        return 10\n",
    "    \n",
    "    # Orphans\n",
    "    if np.bincount(sum_of_hand[[0,8,9,17,18,26],0])[3] == 4 and np.bincount(sum_of_hand[[0,8,9,17,18,26],0])[2] == 3:\n",
    "        if test_mode:print('Wining Hand: Orpahns')\n",
    "        return 10\n",
    "        \n",
    "    # Great Dragons (Need To DOUBLE CHECK)\n",
    "    if sum_of_hand[31:,0] == 3*np.ones([3,1]) and any(sum_of_hand[0:31:,0] >= 2):\n",
    "        if any(sum_of_hand[0:31:,0] == 3) and any(sum_of_hand[0:31:,0] == 2):\n",
    "            if test_mode:print('Wining Hand: Great Dragons (Triplets and eyes)')\n",
    "            return 8\n",
    "        \n",
    "        elif any(sum_of_hand[0:31:,0] == 2) and not any(sum_of_hand[0:31:,0] == 3):\n",
    "            sum_of_hand[np.argwhere(sum_of_hand[0:31:,0] == 2)] -= 2\n",
    "            if all(np.diff(np.nonzero(sum_of_hand[0:31:,0]), axis = 0) == 1):\n",
    "                if test_mode:print('Wining Hand: Great Dragons (consecutive and eyes)')\n",
    "                return 8\n",
    "            else:\n",
    "                break\n",
    "                \n",
    "        elif any(sum_of_hand[0:31:,0] == 3) and not any(sum_of_hand[0:31:,0] == 2):  \n",
    "            sum_of_hand[np.argwhere(sum_of_hand[0:31:,0] == 3)] -= 2\n",
    "            if all(np.diff(np.nonzero(sum_of_hand[0:31:,0]), axis = 0) == 1):\n",
    "                if test_mode:print('Wining Hand: Great Dragons (consecutive and eyes)')\n",
    "                return 8\n",
    "            else:\n",
    "                break\n",
    "        else:\n",
    "            break\n",
    "    # All One Suit\n",
    "    if sum_of_hand[9:] == 0:\n",
    "        copy_of_hands =  sum_of_hand[0:9]\n",
    "        count_tracking = copy_of_hands.copy()\n",
    "        all_one_suit = 1\n",
    "    elif (sum_of_hand[0:9] == 0 and sum_of_hand[18:] == 0):\n",
    "        copy_of_hands =  sum_of_hand[9:18]\n",
    "        all_one_suit = 1\n",
    "    elif (sum_of_hand[0:18] == 0 and sum_of_hand[27:] == 0):\n",
    "        copy_of_hands =  sum_of_hand[18:27]\n",
    "        all_one_suit = 1\n",
    "        \n",
    "    # Meld-eye Count    \n",
    "    chow_count = 0\n",
    "    pong_count = 0\n",
    "    eye_count = 0\n",
    "    count_tracking = copy_of_hands[0,27].copy()\n",
    "    for i, copy_of_hands in enumerate(cpoy_of_hands[0,27]):\n",
    "        if count_tracking[i] == 0:\n",
    "            pass\n",
    "        else:\n",
    "            if copy_of_hands == 3:\n",
    "                if cpopy_of_hands[i+1:i+4] == [1,1,0]:\n",
    "                    eye_count = 1\n",
    "                    chow_count += 1\n",
    "                    count_tracking[i] = 0\n",
    "                    count_tracking[i+1:i+3] = [0,0]\n",
    "                else:\n",
    "                    pong_count += 1\n",
    "                    count_tracking[i] == 0\n",
    "            elif copy_of_hands == 4:\n",
    "                pong_count += 1\n",
    "                if cpoy_of_hand[i + 1] == 0 or cpoy_of_hand[i + 2] == 0:\n",
    "                    if test_mode:print('Singluar Tiles (for test)')\n",
    "                    break\n",
    "                elif cpoy_of_hand[i + 1] > 0 and cpoy_of_hand[i + 2] > 0:\n",
    "                    chow_count += 1\n",
    "                    count_tracking[i+1:i+3] -= 1       \n",
    "            elif copy_of_hands == 2:\n",
    "                if eye_count == 0:\n",
    "                    eye_count = 1\n",
    "                    count_tracking[i] = 0\n",
    "                elif eye_count == 1 and count_tracking[i+1:i+3] == [2,2]:\n",
    "                    chow_count += 2\n",
    "                    count_tracking[i:i+3] -= 2\n",
    "                else:\n",
    "                    break\n",
    "            elif copy_of_hands == 1:\n",
    "                if all(count_tracking[i+1:i+3] >= 1):\n",
    "                    chow_count += 1\n",
    "                    count_tracking[i:i+3] -= 1\n",
    "    wind_count = np.bincount(cpoy_of_hands[27,31])\n",
    "    wind_pong_count = wind_count[3]\n",
    "    wind_eye_count = wind_count[2]\n",
    "    dragon_count = = np.bincount(cpoy_of_hands[31:])\n",
    "    dragon_pong_count = dragon_count[3]\n",
    "    dragon_eye_count = dragon_count[2]\n",
    "    \n",
    "    if wing_pong_count == 2 and wind_eye_count == 1:\n",
    "        if test: print('Small Wind')\n",
    "        score += 6\n",
    "    if dragon_pong_count == 2 and dragon_eye_count == 1:\n",
    "        if test: print('Small Dragons')\n",
    "        score += 5        \n",
    "                    \n",
    "    if all_one_suit:\n",
    "        if test_mode: print('All in One Suit (testing)')\n",
    "        score += 7\n",
    "            \n",
    "    if pong_count == 4 and eye_count == 1:\n",
    "        if test_mode: print('All in Triplets (testing)')\n",
    "        score += 3\n",
    "    \n",
    "        \n",
    "            \n",
    "            \n",
    "                        \n",
    "                    \n",
    "                \n",
    "                \n",
    "        \n",
    "        \n",
    "        \n",
    "        \n",
    "        single_tiles = np.argwhere(sum_of_hand[0:31:,0] == 1)[:,0]\n",
    "        for i in single_tiles:\n",
    "            if sum_of_hand[i-1,0] == 0 and sum_of_hand[i+1,0] == 0: # Check if singular tiles has possible consecutive tiles\n",
    "                break\n",
    "            if i+1 in single_tiles and i+2 in single tiles:\n",
    "                \n",
    "                \n",
    "        pairs_flag = 0\n",
    "        \n",
    "        if any(sum_of_hand[0:31:,0] == 2):\n",
    "            sum_of_hand[np.argwhere(sum_of_hand[0:31:,0] == 2)] -= 2\n",
    "            \n",
    "            \n",
    "    \n",
    "            for n, i in enumerate(index):\n",
    "                if i + 1 == index(n+1) and i + 2 == index(n+2):\n",
    "                    \n",
    "            \n",
    "            \n",
    "            \n",
    "        \n",
    "        \n",
    "    \n",
    "        \n",
    "            \n",
    "    \n",
    "    \n",
    "    return score"
   ]
  },
  {
   "cell_type": "markdown",
   "id": "d8268139",
   "metadata": {},
   "source": [
    "### Mahjong State Dictionary"
   ]
  },
  {
   "cell_type": "code",
   "execution_count": 5,
   "id": "2d38cb20",
   "metadata": {},
   "outputs": [],
   "source": [
    "mahjong_dict = {0:'1 Tong',1:'2 Tong',2:'3 Tong',3:'4 Tong',4:'5 Tong',5:'6 Tong',6:'7 Tong',7:'8 Tong',8:'9 Tong',\n",
    "              9:'1 Wan',10:'2 Wan',11:'3 Wan',12:'4 Wan',13:'5 Wan',14:'6 Wan',15:'7 Wan',16:'8 Wan',17:'9 Wan',\n",
    "              18:'1 Suo',19:'2 Suo',20:'3 Suo',21:'4 Suo',22:'5 Suo',23:'6 Suo',24:'7 Suo',25:'8 Suo',26:'9 Suo',\n",
    "              27:'Dong',28:'Nan',29:'Xi',30:'Bei',\n",
    "              31:'Bai_Ban',32:'Fa_Cai',33:'Hong_Zhong'}"
   ]
  },
  {
   "cell_type": "code",
   "execution_count": 42,
   "id": "c3b3a7cc",
   "metadata": {},
   "outputs": [
    {
     "data": {
      "text/plain": [
       "array([[1., 1., 0., 0.],\n",
       "       [0., 0., 0., 0.],\n",
       "       [0., 0., 0., 0.],\n",
       "       [0., 1., 0., 0.],\n",
       "       [0., 0., 0., 0.],\n",
       "       [0., 0., 0., 0.],\n",
       "       [0., 0., 1., 0.],\n",
       "       [0., 0., 0., 0.],\n",
       "       [0., 0., 0., 0.],\n",
       "       [0., 0., 1., 0.],\n",
       "       [0., 0., 0., 0.],\n",
       "       [0., 0., 0., 0.],\n",
       "       [0., 0., 0., 0.],\n",
       "       [0., 0., 1., 0.],\n",
       "       [0., 0., 1., 0.],\n",
       "       [0., 1., 0., 0.],\n",
       "       [0., 0., 0., 0.],\n",
       "       [0., 0., 0., 0.],\n",
       "       [0., 0., 1., 0.],\n",
       "       [0., 0., 0., 0.],\n",
       "       [0., 0., 0., 1.],\n",
       "       [0., 0., 0., 0.],\n",
       "       [0., 0., 0., 0.],\n",
       "       [0., 0., 0., 0.],\n",
       "       [0., 0., 1., 0.],\n",
       "       [0., 0., 0., 1.],\n",
       "       [0., 0., 0., 0.],\n",
       "       [0., 0., 0., 0.],\n",
       "       [0., 0., 0., 0.],\n",
       "       [0., 0., 0., 0.],\n",
       "       [0., 0., 0., 1.],\n",
       "       [0., 0., 0., 0.],\n",
       "       [0., 0., 0., 1.]])"
      ]
     },
     "execution_count": 42,
     "metadata": {},
     "output_type": "execute_result"
    }
   ],
   "source": [
    "random_seed = random.choices(np.arange(33*4),k=14)\n",
    "state = np.zeros([33,4])\n",
    "for i in random_seed:\n",
    "    # int(i/4) gives tile no., i%4 gives copy no.\n",
    "    state[int(i/4),i%4]=1\n",
    "state"
   ]
  },
  {
   "cell_type": "markdown",
   "id": "526fa7c2",
   "metadata": {},
   "source": [
    "### Functions to View State"
   ]
  },
  {
   "cell_type": "code",
   "execution_count": null,
   "id": "9aad3c9e",
   "metadata": {},
   "outputs": [],
   "source": [
    "# Use this function to output the tiles to see \n",
    "def display_tiles(pile):\n",
    "    print('tile count =',len(pile))\n",
    "    for tile in pile:\n",
    "        print(tile.tileno, tile.suit)"
   ]
  },
  {
   "cell_type": "markdown",
   "id": "a5462ccd",
   "metadata": {},
   "source": [
    "### Functions for Decision Making"
   ]
  },
  {
   "cell_type": "code",
   "execution_count": 8,
   "id": "58158457",
   "metadata": {},
   "outputs": [],
   "source": [
    "def decide(player_hand, drawn_tile, discard_pile):\n",
    "    #### The decision function to eventually go here\n",
    "    if winning_hand == 1:\n",
    "        return score\n",
    "    elif kong == 1:\n",
    "        kong_count = kong_count + 1\n",
    "        return kong_count\n",
    "    else:\n",
    "        return tile_to_discard\n",
    "    \n",
    "def value_function():\n",
    "    #### If our value function is to differ from the official scoring rules\n",
    "    value = score_hand()\n",
    "    return value"
   ]
  },
  {
   "cell_type": "code",
   "execution_count": 4,
   "id": "18b47875",
   "metadata": {},
   "outputs": [],
   "source": [
    "a = np.matrix([[1],[1],[3],[2],[2],[4]])\n"
   ]
  },
  {
   "cell_type": "code",
   "execution_count": 5,
   "id": "632caf78",
   "metadata": {},
   "outputs": [
    {
     "data": {
      "text/plain": [
       "1"
      ]
     },
     "execution_count": 5,
     "metadata": {},
     "output_type": "execute_result"
    }
   ],
   "source": [
    "np.argwhere(a == 1)[1,0]"
   ]
  },
  {
   "cell_type": "code",
   "execution_count": 6,
   "id": "cbc5bf8b",
   "metadata": {},
   "outputs": [
    {
     "data": {
      "text/plain": [
       "matrix([[3]])"
      ]
     },
     "execution_count": 6,
     "metadata": {},
     "output_type": "execute_result"
    }
   ],
   "source": [
    "a[2]"
   ]
  },
  {
   "cell_type": "code",
   "execution_count": 15,
   "id": "59bab71b",
   "metadata": {},
   "outputs": [
    {
     "ename": "TypeError",
     "evalue": "all() takes exactly one argument (2 given)",
     "output_type": "error",
     "traceback": [
      "\u001b[1;31m---------------------------------------------------------------------------\u001b[0m",
      "\u001b[1;31mTypeError\u001b[0m                                 Traceback (most recent call last)",
      "\u001b[1;32m~\\AppData\\Local\\Temp\\ipykernel_17844\\973773219.py\u001b[0m in \u001b[0;36m<module>\u001b[1;34m\u001b[0m\n\u001b[1;32m----> 1\u001b[1;33m \u001b[0mall\u001b[0m\u001b[1;33m(\u001b[0m\u001b[1;36m0\u001b[0m \u001b[1;32min\u001b[0m \u001b[0ma\u001b[0m\u001b[1;33m,\u001b[0m \u001b[1;36m5\u001b[0m \u001b[1;32min\u001b[0m \u001b[0ma\u001b[0m\u001b[1;33m)\u001b[0m\u001b[1;33m\u001b[0m\u001b[1;33m\u001b[0m\u001b[0m\n\u001b[0m",
      "\u001b[1;31mTypeError\u001b[0m: all() takes exactly one argument (2 given)"
     ]
    }
   ],
   "source": [
    "all(0 in a, 5 in a)"
   ]
  },
  {
   "cell_type": "code",
   "execution_count": 8,
   "id": "40e52803",
   "metadata": {},
   "outputs": [],
   "source": [
    "kk = []\n",
    "for i in kk:\n",
    "    print('test')"
   ]
  },
  {
   "cell_type": "code",
   "execution_count": 14,
   "id": "178c269a",
   "metadata": {},
   "outputs": [
    {
     "name": "stdout",
     "output_type": "stream",
     "text": [
      "9\n",
      "18\n",
      "27\n"
     ]
    }
   ],
   "source": [
    "for j,k in zip([0,9,18], [9,18,27]):\n",
    "    print(k)"
   ]
  },
  {
   "cell_type": "code",
   "execution_count": 11,
   "id": "a02e5135",
   "metadata": {},
   "outputs": [
    {
     "ename": "TypeError",
     "evalue": "'zip' object is not subscriptable",
     "output_type": "error",
     "traceback": [
      "\u001b[1;31m---------------------------------------------------------------------------\u001b[0m",
      "\u001b[1;31mTypeError\u001b[0m                                 Traceback (most recent call last)",
      "\u001b[1;32m~\\AppData\\Local\\Temp\\ipykernel_11684\\240059899.py\u001b[0m in \u001b[0;36m<module>\u001b[1;34m\u001b[0m\n\u001b[1;32m----> 1\u001b[1;33m \u001b[0ma\u001b[0m\u001b[1;33m[\u001b[0m\u001b[1;36m1\u001b[0m\u001b[1;33m]\u001b[0m\u001b[1;33m\u001b[0m\u001b[1;33m\u001b[0m\u001b[0m\n\u001b[0m",
      "\u001b[1;31mTypeError\u001b[0m: 'zip' object is not subscriptable"
     ]
    }
   ],
   "source": []
  },
  {
   "cell_type": "code",
   "execution_count": null,
   "id": "2648a867",
   "metadata": {},
   "outputs": [],
   "source": []
  }
 ],
 "metadata": {
  "kernelspec": {
   "display_name": "Python 3 (ipykernel)",
   "language": "python",
   "name": "python3"
  },
  "language_info": {
   "codemirror_mode": {
    "name": "ipython",
    "version": 3
   },
   "file_extension": ".py",
   "mimetype": "text/x-python",
   "name": "python",
   "nbconvert_exporter": "python",
   "pygments_lexer": "ipython3",
   "version": "3.9.16"
  }
 },
 "nbformat": 4,
 "nbformat_minor": 5
}
